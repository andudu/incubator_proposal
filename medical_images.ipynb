{
 "cells": [
  {
   "cell_type": "code",
   "execution_count": 9,
   "metadata": {},
   "outputs": [
    {
     "name": "stdout",
     "output_type": "stream",
     "text": [
      "Populating the interactive namespace from numpy and matplotlib\n"
     ]
    },
    {
     "name": "stderr",
     "output_type": "stream",
     "text": [
      "/Users/rogertrullo/my_venv/lib/python2.7/site-packages/IPython/core/magics/pylab.py:161: UserWarning: pylab import has clobbered these variables: ['size']\n",
      "`%matplotlib` prevents importing * from pylab and numpy\n",
      "  \"\\n`%matplotlib` prevents importing * from pylab and numpy\"\n"
     ]
    }
   ],
   "source": [
    "import numpy as np\n",
    "import SimpleITK as sitk\n",
    "import os\n",
    "import matplotlib.pyplot as plt\n",
    "import dicom\n",
    "import subprocess\n",
    "\n",
    "%pylab inline"
   ]
  },
  {
   "cell_type": "code",
   "execution_count": 10,
   "metadata": {},
   "outputs": [],
   "source": [
    "def partitioned_var(list_stds,list_elts):\n",
    "    stds=[]\n",
    "    for i in xrange(0,len(list_stds)):\n",
    "        stds.append(list_elts[i]*list_stds[i])\n",
    "    return np.sum(stds)/np.sum(list_elts)\n",
    "\n",
    "def partitioned_mean(list_means,list_elts):\n",
    "    means=[]\n",
    "    for i in xrange(0,len(list_stds)):\n",
    "        means.append(list_elts[i]*list_means[i])\n",
    "    return np.sum(means)/np.sum(list_elts)"
   ]
  },
  {
   "cell_type": "code",
   "execution_count": 26,
   "metadata": {
    "collapsed": true
   },
   "outputs": [],
   "source": [
    "def combine_organs_GT(list_name_organs):\n",
    "    #list of sitk images\n",
    "    list_images=[]\n",
    "    for fname in list_name_organs:\n",
    "        list_images.append(sitk.ReadImage(fname))\n",
    "    \n",
    "    size=list_images[0].GetSize()\n",
    "    output_image = sitk.Image(size,sitk.sitkUInt8)\n",
    "    \n",
    "    list_np=[]\n",
    "    for img in list_images:\n",
    "        list_np.append(sitk.GetArrayFromImage(img))\n",
    "    cnt=1\n",
    "    output_np=np.zeros_like(list_np[0])\n",
    "    for img in list_np:\n",
    "        #print img.shape\n",
    "        output_np[np.where(img==1)]=cnt\n",
    "        cnt+=1\n",
    "    \n",
    "    print np.unique(output_np)\n",
    "    output_image=sitk.GetImageFromArray(output_np)\n",
    "    output_image.CopyInformation(list_images[0])\n",
    "    return output_image\n",
    "        \n",
    "        \n",
    "        \n",
    "                       \n",
    "    "
   ]
  },
  {
   "cell_type": "code",
   "execution_count": 46,
   "metadata": {},
   "outputs": [
    {
     "name": "stdout",
     "output_type": "stream",
     "text": [
      "LCTSC-Train-S1-001\n",
      "('Image size:', 512, 512, 140)\n",
      "LCTSC-Train-S1-001 finished\n",
      "LCTSC-Train-S1-002\n",
      "('Image size:', 512, 512, 161)\n",
      "LCTSC-Train-S1-002 finished\n",
      "LCTSC-Train-S1-003\n",
      "('Image size:', 512, 512, 154)\n",
      "LCTSC-Train-S1-003 finished\n",
      "LCTSC-Train-S1-004\n",
      "('Image size:', 512, 512, 158)\n",
      "LCTSC-Train-S1-004 finished\n",
      "LCTSC-Train-S1-005\n",
      "('Image size:', 512, 512, 136)\n",
      "LCTSC-Train-S1-005 finished\n",
      "LCTSC-Train-S1-006\n",
      "('Image size:', 512, 512, 140)\n",
      "LCTSC-Train-S1-006 finished\n",
      "LCTSC-Train-S1-007\n",
      "('Image size:', 512, 512, 148)\n",
      "LCTSC-Train-S1-007 finished\n",
      "LCTSC-Train-S1-008\n",
      "('Image size:', 512, 512, 134)\n",
      "LCTSC-Train-S1-008 finished\n",
      "LCTSC-Train-S1-009\n",
      "('Image size:', 512, 512, 150)\n",
      "LCTSC-Train-S1-009 finished\n",
      "LCTSC-Train-S1-010\n",
      "('Image size:', 512, 512, 122)\n",
      "LCTSC-Train-S1-010 finished\n",
      "LCTSC-Train-S1-011\n",
      "('Image size:', 512, 512, 162)\n",
      "LCTSC-Train-S1-011 finished\n",
      "LCTSC-Train-S1-012\n",
      "('Image size:', 512, 512, 131)\n",
      "LCTSC-Train-S1-012 finished\n",
      "LCTSC-Train-S2-001\n",
      "('Image size:', 512, 512, 160)\n",
      "LCTSC-Train-S2-001 finished\n",
      "LCTSC-Train-S2-002\n",
      "('Image size:', 512, 512, 152)\n",
      "LCTSC-Train-S2-002 finished\n",
      "LCTSC-Train-S2-003\n",
      "('Image size:', 512, 512, 144)\n",
      "LCTSC-Train-S2-003 finished\n",
      "LCTSC-Train-S2-004\n",
      "('Image size:', 512, 512, 168)\n",
      "LCTSC-Train-S2-004 finished\n",
      "LCTSC-Train-S2-005\n",
      "('Image size:', 512, 512, 152)\n",
      "LCTSC-Train-S2-005 finished\n",
      "LCTSC-Train-S2-006\n",
      "('Image size:', 512, 512, 144)\n",
      "LCTSC-Train-S2-006 finished\n",
      "LCTSC-Train-S2-007\n",
      "('Image size:', 512, 512, 160)\n",
      "LCTSC-Train-S2-007 finished\n",
      "LCTSC-Train-S2-008\n",
      "('Image size:', 512, 512, 168)\n",
      "LCTSC-Train-S2-008 finished\n",
      "LCTSC-Train-S2-009\n",
      "('Image size:', 512, 512, 160)\n",
      "LCTSC-Train-S2-009 finished\n",
      "LCTSC-Train-S2-010\n",
      "('Image size:', 512, 512, 152)\n",
      "LCTSC-Train-S2-010 finished\n",
      "LCTSC-Train-S2-011\n",
      "('Image size:', 512, 512, 160)\n",
      "LCTSC-Train-S2-011 finished\n",
      "LCTSC-Train-S2-012\n",
      "('Image size:', 512, 512, 160)\n",
      "LCTSC-Train-S2-012 finished\n",
      "LCTSC-Train-S3-001\n",
      "('Image size:', 512, 512, 204)\n",
      "LCTSC-Train-S3-001 finished\n",
      "LCTSC-Train-S3-002\n",
      "('Image size:', 512, 512, 206)\n",
      "LCTSC-Train-S3-002 finished\n",
      "LCTSC-Train-S3-003\n",
      "('Image size:', 512, 512, 202)\n",
      "LCTSC-Train-S3-003 finished\n",
      "LCTSC-Train-S3-004\n",
      "('Image size:', 512, 512, 279)\n",
      "LCTSC-Train-S3-004 finished\n",
      "LCTSC-Train-S3-005\n",
      "('Image size:', 512, 512, 188)\n",
      "LCTSC-Train-S3-005 finished\n",
      "LCTSC-Train-S3-006\n",
      "('Image size:', 512, 512, 148)\n",
      "LCTSC-Train-S3-006 finished\n",
      "LCTSC-Train-S3-007\n",
      "('Image size:', 512, 512, 163)\n",
      "LCTSC-Train-S3-007 finished\n",
      "LCTSC-Train-S3-008\n",
      "('Image size:', 512, 512, 240)\n",
      "LCTSC-Train-S3-008 finished\n",
      "LCTSC-Train-S3-009\n",
      "('Image size:', 512, 512, 115)\n",
      "LCTSC-Train-S3-009 finished\n",
      "LCTSC-Train-S3-010\n",
      "('Image size:', 512, 512, 150)\n",
      "LCTSC-Train-S3-010 finished\n",
      "LCTSC-Train-S3-011\n",
      "('Image size:', 512, 512, 133)\n",
      "LCTSC-Train-S3-011 finished\n",
      "LCTSC-Train-S3-012\n",
      "('Image size:', 512, 512, 214)\n",
      "LCTSC-Train-S3-012 finished\n",
      "everything done\n",
      "partitioned mean -899.852960258\n",
      "partitioned std 601.684171257\n"
     ]
    }
   ],
   "source": [
    "plastimatch_path='./Users/rogertrullo/Documents/Plastimatch/plastimatchbin/plastimatch'\n",
    "dirpatients='./DOI/'\n",
    "output_dir='/Users/rogertrullo/Documents/Lung_CT_challenge'\n",
    "path, dirs, files = os.walk(dirpatients).next()#every folder is a patient\n",
    "n_total_voxels=0\n",
    "list_means=[]\n",
    "list_stds=[]\n",
    "list_elts=[]\n",
    "list_imgs=[]\n",
    "\n",
    "list_name_organs=['SpinalCord.mha', 'Esophagus.mha', 'Lung_L.mha', 'Heart.mha', 'Lung_R.mha']\n",
    "\n",
    "if not os.path.exists(output_dir):\n",
    "        os.mkdir(output_dir)\n",
    "\n",
    "\n",
    "for d in dirs:\n",
    "    print d\n",
    "    path_, dirs_, files_ = os.walk(os.path.join(path,d)).next()#every folder is a patient\n",
    "    _,dirs_final,_=os.walk(os.path.join(path,d,dirs_[0])).next()#every folder is a patient\n",
    "    path_1=os.path.join(path,d,dirs_[0],dirs_final[1])\n",
    "    path_2=os.path.join(path,d,dirs_[0],dirs_final[0])\n",
    "    nfiles1=os.listdir(path_1)\n",
    "    nfiles2=os.listdir(path_2)\n",
    "    if len(nfiles1)>1:\n",
    "        path_ct=path_1\n",
    "        path_gt=path_2\n",
    "    else:\n",
    "        path_ct=path_2\n",
    "        path_gt=path_1\n",
    "        \n",
    "    reader = sitk.ImageSeriesReader()\n",
    "    #print path_ct\n",
    "    reader.GetGDCMSeriesFileNames(path_ct)\n",
    "    dicom_names = reader.GetGDCMSeriesFileNames( path_ct )\n",
    "    #print dicom_names\n",
    "    reader.SetFileNames(dicom_names)\n",
    "    image = reader.Execute() \n",
    "    image_np=sitk.GetArrayFromImage(image)\n",
    "    size = image.GetSize()\n",
    "    print( \"Image size:\", size[0], size[1], size[2])\n",
    "    list_means.append(np.mean(image_np))\n",
    "    list_stds.append(np.std(image_np))\n",
    "    list_elts.append(np.prod(size))\n",
    "    #list_imgs.extend(image_np.ravel())\n",
    "    #use plastimatch to convert RT-Dicom to image\n",
    "    #path_rt=os.path.join(path_gt,os.listdir(path_gt)[0])   \n",
    "    \n",
    "    #cmd='plastimatch convert --input {0} --output-type=uchar --referenced-ct {1} --output-prefix {2}'.format(path_rt,path_ct,'./')\n",
    "    #print subprocess.check_output(cmd, shell=True)\n",
    "    #output_itk=combine_organs_GT(list_name_organs)\n",
    "    \n",
    "    #out_folder=os.path.join(output_dir,d)\n",
    "    #if not os.path.exists(out_folder):\n",
    "    #    os.mkdir(out_folder)\n",
    "    #sitk.WriteImage(image,os.path.join(out_folder,'{}.nii.gz'.format(d)))\n",
    "    #sitk.WriteImage(output_itk,os.path.join(out_folder,'GT.nii.gz'))\n",
    "    print d,'finished'\n",
    "\n",
    "print 'everything done'\n",
    "print 'partitioned mean',partitioned_mean(list_means,list_elts)\n",
    "print 'partitioned std',partitioned_var(list_stds,list_elts)\n",
    "\n",
    "#print 'real mean',np.mean(list_imgs),'partitioned mean',partitioned_mean(list_means,list_elts)\n",
    "#print 'real std',np.std(list_imgs),'partitioned std',partitioned_var(list_stds,list_elts)\n",
    "    "
   ]
  },
  {
   "cell_type": "markdown",
   "metadata": {},
   "source": [
    "## We plot now one slice of the 3d volume"
   ]
  },
  {
   "cell_type": "code",
   "execution_count": 81,
   "metadata": {},
   "outputs": [
    {
     "name": "stdout",
     "output_type": "stream",
     "text": [
      "int32 (214, 512, 512) -1000 3071\n"
     ]
    },
    {
     "data": {
      "text/plain": [
       "<matplotlib.image.AxesImage at 0x10a31d810>"
      ]
     },
     "execution_count": 81,
     "metadata": {},
     "output_type": "execute_result"
    },
    {
     "data": {
      "image/png": "[encoded data removed]",
      "text/plain": [
       "<matplotlib.figure.Figure at 0x10b4bf610>"
      ]
     },
     "metadata": {},
     "output_type": "display_data"
    }
   ],
   "source": [
    "ctnp=sitk.GetArrayFromImage(image)\n",
    "print ctnp.dtype,ctnp.shape,np.min(ctnp),np.max(ctnp)\n",
    "slice_ct=ctnp[80,:,:]\n",
    "plt.imshow(slice_ct,cmap='gray')"
   ]
  },
  {
   "cell_type": "markdown",
   "metadata": {},
   "source": [
    "### We can see that the values vary between -1000 and 3071, they are integers representing HU units (https://en.wikipedia.org/wiki/Hounsfield_scale)"
   ]
  },
  {
   "cell_type": "markdown",
   "metadata": {
    "collapsed": true
   },
   "source": [
    "#### We now plot a histogram to see the distribution of intensities\n"
   ]
  },
  {
   "cell_type": "code",
   "execution_count": 14,
   "metadata": {},
   "outputs": [
    {
     "data": {
      "text/plain": [
       "(array([  4.70162360e+07,   1.60399000e+06,   6.85027100e+06,\n",
       "          5.64637000e+05,   5.53230000e+04,   7.81600000e+03,\n",
       "          2.72000000e+02,   5.10000000e+01,   3.80000000e+01,\n",
       "          1.82000000e+02]),\n",
       " array([-1000. ,  -592.9,  -185.8,   221.3,   628.4,  1035.5,  1442.6,\n",
       "         1849.7,  2256.8,  2663.9,  3071. ]),\n",
       " <a list of 10 Patch objects>)"
      ]
     },
     "execution_count": 14,
     "metadata": {},
     "output_type": "execute_result"
    },
    {
     "data": {
      "image/png": "[encoded data removed]",
      "text/plain": [
       "<matplotlib.figure.Figure at 0x10af02690>"
      ]
     },
     "metadata": {},
     "output_type": "display_data"
    }
   ],
   "source": [
    "plt.hist(ctnp.ravel())"
   ]
  },
  {
   "cell_type": "code",
   "execution_count": 134,
   "metadata": {},
   "outputs": [
    {
     "name": "stdout",
     "output_type": "stream",
     "text": [
      "[0 1 2 3 4 5]\n"
     ]
    }
   ],
   "source": [
    "gt_itk=sitk.ReadImage('../GT_13.nii.gz')\n",
    "gtnp=sitk.GetArrayFromImage(gt_itk)\n",
    "print np.unique(gtnp)"
   ]
  },
  {
   "cell_type": "markdown",
   "metadata": {},
   "source": [
    "#### We can see that the majority of voxels are 'air' voxels with dark intensity (-1000)"
   ]
  },
  {
   "cell_type": "markdown",
   "metadata": {},
   "source": [
    "## We now have to deal with the ground-truth which is in Dicom-RT format\n",
    "### We need to convert this format to an image containing the label for every voxel\n",
    "#### I could not find a library to do this, and probably I will have to code it myself; for now I was able to read the format where we can read the name of the organs, and the x,y,z voxels of the contour. We would need to transform this physical coordinates into image coordinates and assign the proper label"
   ]
  },
  {
   "cell_type": "code",
   "execution_count": 128,
   "metadata": {},
   "outputs": [
    {
     "name": "stdout",
     "output_type": "stream",
     "text": [
      "./DOI/LCTSC-Train-S3-012/1.3.6.1.4.1.14519.5.2.1.7014.4598.241302417772680614574081426270/1.3.6.1.4.1.14519.5.2.1.7014.4598.278528516827875270055530886523\n",
      "./DOI/LCTSC-Train-S3-012/1.3.6.1.4.1.14519.5.2.1.7014.4598.241302417772680614574081426270/1.3.6.1.4.1.14519.5.2.1.7014.4598.306855928738612353709729964131\n",
      "000000.dcm\n"
     ]
    }
   ],
   "source": [
    "print path_gt\n",
    "print path_ct\n",
    "print os.listdir(path_gt)[0]\n",
    "ds=dicom.read_file(os.path.join(path_gt,os.listdir(path_gt)[0]))\n"
   ]
  },
  {
   "cell_type": "code",
   "execution_count": 129,
   "metadata": {},
   "outputs": [
    {
     "name": "stdout",
     "output_type": "stream",
     "text": [
      "Esophagus\n",
      "Heart\n",
      "Lung_L\n",
      "Lung_R\n",
      "SpinalCord\n"
     ]
    }
   ],
   "source": [
    "rs= ds.StructureSetROISequence\n",
    "for i in rs:\n",
    "    print i.ROIName"
   ]
  },
  {
   "cell_type": "code",
   "execution_count": 42,
   "metadata": {},
   "outputs": [
    {
     "name": "stdout",
     "output_type": "stream",
     "text": [
      "(3006, 0040) Contour Sequence                    SQ: <Sequence, length 159, at 1081C6E68>\n",
      "(3006, 002a) ROI Display Color                   IS: ['255', '114', '0']\n",
      "(3006, 0084) Referenced ROI Number               IS: '1'\n"
     ]
    }
   ],
   "source": [
    "contour_esophagus=ds.ROIContourSequence[0]\n",
    "for k in contour_esophagus.keys():\n",
    "    print contour_esophagus[k]"
   ]
  },
  {
   "cell_type": "markdown",
   "metadata": {
    "collapsed": true
   },
   "source": [
    "## Using Plastimatch we were able to convert the Dicom-Rt structure into a segmentation image\n",
    "![alt text][logo1]\n",
    "![alt text][logo2]\n",
    "![alt text][logo3]\n",
    "![alt text][logo]\n",
    "\n",
    "\n",
    "[logo1]: GT1.png \"Logo Title Text 2\"\n",
    "[logo2]: GT2.png \"Logo Title Text 2\"\n",
    "[logo3]: GT3.png \"Logo Title Text 2\"\n",
    "[logo]: GT.png \"Logo Title Text 2\""
   ]
  },
  {
   "cell_type": "code",
   "execution_count": null,
   "metadata": {
    "collapsed": true
   },
   "outputs": [],
   "source": []
  }
 ],
 "metadata": {
  "kernelspec": {
   "display_name": "Python 2",
   "language": "python",
   "name": "python2"
  },
  "language_info": {
   "codemirror_mode": {
    "name": "ipython",
    "version": 2
   },
   "file_extension": ".py",
   "mimetype": "text/x-python",
   "name": "python",
   "nbconvert_exporter": "python",
   "pygments_lexer": "ipython2",
   "version": "2.7.10"
  }
 },
 "nbformat": 4,
 "nbformat_minor": 2
}
